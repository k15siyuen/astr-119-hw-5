{
 "cells": [
  {
   "cell_type": "code",
   "execution_count": null,
   "metadata": {},
   "outputs": [],
   "source": [
    "%matplotlib inline\n",
    "import matplotlib.pyplot as plt\n",
    "import numpy as np"
   ]
  },
  {
   "cell_type": "markdown",
   "metadata": {},
   "source": [
    "## First, I will define the derivatives to integrate."
   ]
  },
  {
   "cell_type": "code",
   "execution_count": null,
   "metadata": {},
   "outputs": [],
   "source": [
    "def dydx(x,y):\n",
    "    \n",
    "    #set the derivatives\n",
    "    \n",
    "    #our equation is d^2y/dx^2 = -y\n",
    "    \n",
    "    #so we can write\n",
    "    #dydx = z\n",
    "    #dzdx = -y\n",
    "    \n",
    "    #we will set y = y[0]\n",
    "    #we will set z = y[1]\n",
    "    \n",
    "    #declare an array\n",
    "    y_derivs = np.zeros(2)\n",
    "    \n",
    "    #set dydx = z\n",
    "    y_derivs[0] = y[1]\n",
    "    \n",
    "    #set dzdx = -y\n",
    "    y_derivs[1] = -1*y[0]\n",
    "    \n",
    "    #here we have to return an array\n",
    "    return y_derivs"
   ]
  },
  {
   "cell_type": "markdown",
   "metadata": {},
   "source": [
    "## Then, I will declare the 5th order RK method."
   ]
  },
  {
   "cell_type": "code",
   "execution_count": null,
   "metadata": {},
   "outputs": [],
   "source": [
    "def rk5_try(x,y,dydx,h,y_derivs):\n",
    "    \n",
    "    ai = array([0, 0.2, 0.3, 0.6, 1.0, 0.875])\n",
    "    \n",
    "    ci = array([37.0/378.0, 0.0, 250.0/621.0, 125.0/594.0, 0.0, 512.0/1771.0])\n",
    "    \n",
    "    dci = array([ci[0]-28255.0/27648.0, 0.0, ci[2]-18575.0/48384.0, ci[3]-13525.0/55296.0, -277.00/14336.0, ci[5]-0.25])\n",
    "   \n",
    "    bs = array([0.0, 0.0, 0.0, 0.0, 0.0, 0.0],\n",
    "               [0.2, 0.0, 0.0, 0.0, 0.0, 0.0],\n",
    "               [3.0/40.0, 9.0/40.0, 0.0, 0.0, 0.0, 0.0],\n",
    "               [0.3, -0.9, 1.2, 0.0, 0.0, 0.0],\n",
    "               [-11.0/54.0, 2.5, -70.0/27.0, 35.0/27.0, 0.0, 0.0],\n",
    "               [1631.0/55296.0, 175.0/512.0, 575.0/13824.0, 44275.0/110592.0, 253.0/4096.0, 0.0])\n",
    "    \n",
    "    k0 = h*dydx                                                                              #1st step\n",
    "    k1 = h*y_derivs(y + bs[1,0]*k0, x + ai[1]*h)                                             #2nd step\n",
    "    k2 = h*y_derivs(y + bs[2,0]*k0+bs[2,1]*k1, x + ai[2]*h)                                  #3rd step\n",
    "    k3 = h*y_derivs(y + bs[3,0]*k0+bs[3,1]*k1+bs[3,2]*k2, x + ai[3]*h)                       #4th step\n",
    "    k4 = h*y_derivs(y + bs[4,0]*k0+bs[4,1]*k1+bs[4,2]*k2+bs[4,3]*k3, x + ai[4]*h)            #5th step\n",
    "    k5 = h*y_derivs(y + bs[5,0]*k0+bs[5,1]*k1+bs[5,2]*k2+bs[5,3]*k3+bs[5,4]*k4, x + ai[5]*h) #6th step\n",
    "    \n",
    "    yout = y + ci[0]*k0+ci[2]*k2+ci[3]*k3+ci[5]*k5\n",
    "    \n",
    "    yerr = dci[0]*k0+dci[2]*k2+dci[3]*k3+dci[4]*k4+dci[5]*k5\n",
    "    \n",
    "    return (yout, yerr)"
   ]
  },
  {
   "cell_type": "markdown",
   "metadata": {},
   "source": [
    "## Next, I will define an adaptive step size control driver for RK5."
   ]
  },
  {
   "cell_type": "code",
   "execution_count": null,
   "metadata": {},
   "outputs": [],
   "source": [
    "def rk5_step(x,y,htry,y_derivs,accuracy):\n",
    "    \n",
    "    dydx = y_derivs(y,x) #this calculates the derivatives for the new step\n",
    "                         #a good way to determine the desired accuracy\n",
    "    yscal = abs(y[:]) + abs(dydx[:]*htry) + 1e-3\n",
    "    \n",
    "    h = htry #set the step size to the initial trial value\n",
    "    \n",
    "    while True:\n",
    "        (y_new, yerr) = rk5_try(x,y,dydx,h,y_derivs) #take a step\n",
    "        errmax = max(abs(yerr/yscal))/accuracy #this is the max error scaled to required tolerance\n",
    "        \n",
    "        if (errmax <= 1.0): break   #step succeeded --> compute size of next step\n",
    "        h_new = 0.9*h/errmax**0.25  #truncation error too large, reduce step size\n",
    "        if abs(h_new) < 0.1*abs(h): #if step might get too small\n",
    "            h_new = 0.1*h           #take at most a 10x smaller step\n",
    "        h = h_new\n",
    "        if (x+h == x):\n",
    "            print (\"ERROR: Step size underflow in RKStep.\")\n",
    "            \n",
    "    if errmax < 2.e-4:  #step is way too small\n",
    "        h_next = 5.0*h  #increase the step size 5x\n",
    "    else:\n",
    "        h_next = 0.9*h/errmax**0.2 #step size is too small\n",
    "                                   #next time, increase it with the delta^0.2 power\n",
    "    return (x+h, y_new, h_next)"
   ]
  },
  {
   "cell_type": "markdown",
   "metadata": {},
   "source": [
    "## Now I will perform the integration."
   ]
  },
  {
   "cell_type": "code",
   "execution_count": null,
   "metadata": {},
   "outputs": [],
   "source": [
    "if __name__ == '__main__':\n",
    "    t_start = 0    #first time\n",
    "    t_stop = 200   #elapsed time in dimensionless units\n",
    "    h = 0.1        #initial time step\n",
    "    accuracy = 1e-7\n",
    "    y = y_derivs([0,1.0])\n",
    "    \n",
    "    tc = t_start\n",
    "    while (tc <= t_stop):\n",
    "        (tc,y,h) = rk5_step(tc,y,h,accuracy)"
   ]
  },
  {
   "cell_type": "code",
   "execution_count": null,
   "metadata": {},
   "outputs": [],
   "source": [
    "plt.plot(x,y[:,0],'o',label='y(x)')\n",
    "plt.plot(x,y[:,1],'o',label='dydx(x)')\n",
    "xx = np.linspace(0,2.0*np.pi,1000)\n",
    "plt.plot(xx,np.sin(xx),label='sin(x)')\n",
    "plt.plot(xx,np.cos(xx),label='cos(x)')\n",
    "plt.xlabel('x')\n",
    "plt.ylabel('y, dy/dx')\n",
    "plt.legend(frameon=False)"
   ]
  },
  {
   "cell_type": "code",
   "execution_count": null,
   "metadata": {},
   "outputs": [],
   "source": []
  }
 ],
 "metadata": {
  "kernelspec": {
   "display_name": "Python 3",
   "language": "python",
   "name": "python3"
  },
  "language_info": {
   "codemirror_mode": {
    "name": "ipython",
    "version": 3
   },
   "file_extension": ".py",
   "mimetype": "text/x-python",
   "name": "python",
   "nbconvert_exporter": "python",
   "pygments_lexer": "ipython3",
   "version": "3.7.0"
  }
 },
 "nbformat": 4,
 "nbformat_minor": 2
}
